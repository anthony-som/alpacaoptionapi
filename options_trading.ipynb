{
 "cells": [
  {
   "cell_type": "code",
   "execution_count": 2,
   "metadata": {},
   "outputs": [],
   "source": [
    "import os\n",
    "api_key = os.getenv(\"TRADE_API_KEY\")\n",
    "secret_key = os.getenv(\"TRADE_API_SECRET\")\n",
    "paper = True\n"
   ]
  },
  {
   "cell_type": "code",
   "execution_count": 3,
   "metadata": {},
   "outputs": [],
   "source": [
    "from datetime import datetime, timedelta\n",
    "\n",
    "import alpaca\n",
    "from alpaca.data.historical.option import OptionHistoricalDataClient, OptionLatestQuoteRequest\n",
    "from alpaca.data.historical.stock import StockHistoricalDataClient, StockLatestTradeRequest\n",
    "from alpaca.trading.client import TradingClient, GetAssetsRequest\n",
    "from alpaca.trading.requests import GetOptionContractsRequest, LimitOrderRequest, MarketOrderRequest, GetOrdersRequest\n",
    "from alpaca.trading.enums import AssetStatus, ContractType, OrderSide, OrderType, TimeInForce, QueryOrderStatus\n"
   ]
  },
  {
   "cell_type": "code",
   "execution_count": 4,
   "metadata": {},
   "outputs": [],
   "source": [
    "trade_client = TradingClient(api_key=api_key, secret_key=secret_key, paper=paper)\n",
    "\n",
    "stock_data_client = StockHistoricalDataClient(api_key=api_key, secret_key=secret_key)\n",
    "\n",
    "option_data_client = OptionHistoricalDataClient(api_key=api_key, secret_key=secret_key)"
   ]
  },
  {
   "cell_type": "code",
   "execution_count": 5,
   "metadata": {},
   "outputs": [
    {
     "name": "stdout",
     "output_type": "stream",
     "text": [
      "Options Approved Level: 2\n",
      "Options Trading Level: 2\n",
      "Options Buying Power: 25856.76\n"
     ]
    }
   ],
   "source": [
    "acct = trade_client.get_account()\n",
    "\n",
    "print(f'Options Approved Level: {acct.options_approved_level}')\n",
    "print(f'Options Trading Level: {acct.options_trading_level}')\n",
    "print(f'Options Buying Power: {acct.options_buying_power}')"
   ]
  },
  {
   "cell_type": "code",
   "execution_count": 6,
   "metadata": {},
   "outputs": [
    {
     "name": "stdout",
     "output_type": "stream",
     "text": [
      "Max Config level:None\n"
     ]
    }
   ],
   "source": [
    "acct_config = trade_client.get_account_configurations()\n",
    "print(f'Max Config level:{acct_config.max_options_trading_level}')"
   ]
  },
  {
   "cell_type": "code",
   "execution_count": 7,
   "metadata": {},
   "outputs": [
    {
     "name": "stdout",
     "output_type": "stream",
     "text": [
      "Number of underlyings with options: 5714\n",
      "TSLA has options? False\n"
     ]
    }
   ],
   "source": [
    "# Get Assets that have options\n",
    "\n",
    "req = GetAssetsRequest(\n",
    "    status = AssetStatus.ACTIVE,\n",
    "    attributes = \"options_enabled\"\n",
    ")\n",
    "\n",
    "options_enabled_underlying = trade_client.get_all_assets(req)\n",
    "print(f'Number of underlyings with options: {len(options_enabled_underlying)}')\n",
    "\n",
    "underlying_symbol=\"TSLA\"\n",
    "underlying = trade_client.get_asset(symbol_or_asset_id=underlying_symbol)\n",
    "print(f\"{underlying_symbol} has options? {'options_enabled' in underlying.attributes}\")"
   ]
  },
  {
   "cell_type": "code",
   "execution_count": 8,
   "metadata": {},
   "outputs": [],
   "source": [
    "# Options Covered Call\n",
    "\n",
    "positions = trade_client.get_all_positions()\n",
    "\n",
    "for p in positions:\n",
    "    print(p)\n"
   ]
  },
  {
   "cell_type": "code",
   "execution_count": null,
   "metadata": {},
   "outputs": [],
   "source": []
  }
 ],
 "metadata": {
  "kernelspec": {
   "display_name": "venv",
   "language": "python",
   "name": "python3"
  },
  "language_info": {
   "codemirror_mode": {
    "name": "ipython",
    "version": 3
   },
   "file_extension": ".py",
   "mimetype": "text/x-python",
   "name": "python",
   "nbconvert_exporter": "python",
   "pygments_lexer": "ipython3",
   "version": "3.9.0"
  }
 },
 "nbformat": 4,
 "nbformat_minor": 2
}
